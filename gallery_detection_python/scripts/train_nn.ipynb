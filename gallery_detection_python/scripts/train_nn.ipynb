{
 "cells": [
  {
   "cell_type": "code",
   "execution_count": null,
   "metadata": {},
   "outputs": [],
   "source": [
    "import gallery_detection_models.models as models\n",
    "import torch\n",
    "import torch.nn as nn\n",
    "from torch.utils.data import Dataset, DataLoader, random_split\n",
    "import os\n",
    "import importlib\n",
    "import numpy as np\n",
    "import matplotlib.pyplot as plt\n",
    "import shutil\n",
    "import torchvision.transforms as transforms\n",
    "from torch.utils.tensorboard import SummaryWriter\n",
    "importlib.reload(models)\n",
    "cuda = torch.device('cuda')\n"
   ]
  },
  {
   "attachments": {},
   "cell_type": "markdown",
   "metadata": {},
   "source": [
    "## Parameters"
   ]
  },
  {
   "cell_type": "code",
   "execution_count": null,
   "metadata": {},
   "outputs": [],
   "source": [
    "DATASET = \"dataset_03\"\n",
    "DATASET_FOLDER = f\"/home/lorenzo/datasets/{DATASET}\"\n",
    "MODEL = models.gallery_detector_v3\n",
    "SAVE_FOLDER = f\"/home/lorenzo/models/gallery_detection/procedural_datasets/{DATASET}\"\n",
    "n_epochs = int(64*2)\n",
    "batch_size = 128\n",
    "lrs= [0.002]\n",
    "try:\n",
    "    os.mkdir(SAVE_FOLDER)\n",
    "except:\n",
    "    pass\n",
    "save_path = os.path.join(SAVE_FOLDER,MODEL.__name__+\"-_r10_lr002_4.torch\")\n",
    "print(save_path)"
   ]
  },
  {
   "attachments": {},
   "cell_type": "markdown",
   "metadata": {},
   "source": [
    "## Load dataset"
   ]
  },
  {
   "cell_type": "code",
   "execution_count": 117,
   "metadata": {},
   "outputs": [
    {
     "name": "stdout",
     "output_type": "stream",
     "text": [
      "env_001\n",
      "env_002\n",
      "env_003\n",
      "env_004\n",
      "env_007\n",
      "env_008\n",
      "env_009\n",
      "env_010\n",
      "env_011\n",
      "env_013\n",
      "env_014\n",
      "env_016\n",
      "env_017\n",
      "4999\r"
     ]
    }
   ],
   "source": [
    "# Define the dataset\n",
    "class ImageDataset(Dataset):\n",
    "    def __init__(self, path_to_dataset, max_elements_per_env=None):\n",
    "        self.device = torch.device(\n",
    "            \"cuda:0\")\n",
    "        self.load_dataset(path_to_dataset,max_elements_per_env=max_elements_per_env)\n",
    "        self.data_augmentation=torch.nn.Sequential(\n",
    "            transforms.RandomErasing()\n",
    "        )\n",
    "    def load_dataset(self, dataset_folder, max_elements_per_env = None):\n",
    "        n_datapoints = 0\n",
    "        envs = os.listdir(dataset_folder)\n",
    "        envs.sort()\n",
    "        for env in envs:\n",
    "            env_folder = os.path.join(dataset_folder, env)\n",
    "            data_folder = os.path.join(env_folder, \"data\")\n",
    "            if os.path.isdir(data_folder):\n",
    "                if max_elements_per_env is None:\n",
    "                    n_datapoints += len(os.listdir(data_folder))\n",
    "                else:\n",
    "                    n_datapoints+=min(len(os.listdir(data_folder)),max_elements_per_env)\n",
    "            else:\n",
    "                envs.remove(env)\n",
    "        self.n_datapoints = n_datapoints\n",
    "        self.labels = torch.zeros((self.n_datapoints, 360)).float()\n",
    "        self.images = torch.zeros((self.n_datapoints,1,16,360)).float()\n",
    "        n = 0\n",
    "        for env in envs:\n",
    "            print(env)\n",
    "            env_folder = os.path.join(dataset_folder, env)\n",
    "            data_folder = os.path.join(env_folder, \"data\")\n",
    "            dtp_names = os.listdir(data_folder)\n",
    "            dtp_names.sort()\n",
    "            if not max_elements_per_env is None:\n",
    "                dtp_names = dtp_names[0:min(len(dtp_names),max_elements_per_env)]\n",
    "            for dtp_n, dtp_name in enumerate(dtp_names):\n",
    "                print(f\"{dtp_n:04d}\",end=\"\\r\")\n",
    "                dtp_path = os.path.join(data_folder, dtp_name)\n",
    "                dtp = np.load(dtp_path)\n",
    "                self.labels[n, :] = torch.tensor(dtp[\"label\"])\n",
    "                self.images[n,0, :,:] = torch.tensor(dtp[\"image\"])\n",
    "                n+=1\n",
    "\n",
    "    def __len__(self):\n",
    "        return self.n_datapoints\n",
    "\n",
    "    def __getitem__(self, idx):\n",
    "        image = self.images[idx, ...]\n",
    "        result = self.labels[idx, ...]\n",
    "        roll = np.random.randint(0,360)\n",
    "        image = torch.roll(image,roll,2)\n",
    "        result = torch.roll(result,roll,0)\n",
    "        return self.data_augmentation(image.float()), result.float()\n",
    "    def delete(self, idx):\n",
    "        self.images = torch.cat(self.images[0:idx,...],self.images[idx+1,:])\n",
    "        self.labels= torch.cat(self.labels[0:idx,...],self.labels[idx+1,:])\n",
    "\n",
    "dataset = ImageDataset(DATASET_FOLDER,max_elements_per_env=None)"
   ]
  },
  {
   "cell_type": "code",
   "execution_count": null,
   "metadata": {},
   "outputs": [],
   "source": [
    "n = 0\n",
    "idxs_to_keep = []\n",
    "for i, (img, label) in enumerate(dataset):\n",
    "    if torch.sum(label)>70:\n",
    "        idxs_to_keep.append(i)"
   ]
  },
  {
   "cell_type": "code",
   "execution_count": null,
   "metadata": {},
   "outputs": [],
   "source": [
    "idxs_to_keep = np.array(idxs_to_keep)\n",
    "dataset.images = torch.tensor(dataset.images.numpy()[idxs_to_keep,...])\n",
    "dataset.labels = torch.tensor(dataset.labels.numpy()[idxs_to_keep,...])\n",
    "dataset.n_datapoints = len(dataset.labels)"
   ]
  },
  {
   "cell_type": "code",
   "execution_count": 118,
   "metadata": {},
   "outputs": [
    {
     "data": {
      "image/png": "[encoded data removed]",
      "text/plain": [
       "<Figure size 640x480 with 2 Axes>"
      ]
     },
     "metadata": {},
     "output_type": "display_data"
    }
   ],
   "source": [
    "dataset.data_augmentation =torch.nn.Sequential(\n",
    "            transforms.RandomErasing(),\n",
    "            transforms.RandomErasing(),\n",
    "            transforms.RandomErasing(),\n",
    "            transforms.RandomErasing()\n",
    "        )\n",
    "\n",
    "image, result = dataset[3]\n",
    "n+=1\n",
    "plt.subplot(2,1,1)\n",
    "plt.imshow(image[0])\n",
    "plt.subplot(2,1,2)\n",
    "plt.plot(result)\n",
    "plt.show()"
   ]
  },
  {
   "cell_type": "code",
   "execution_count": 119,
   "metadata": {},
   "outputs": [],
   "source": [
    "train_dataset, test_dataset = random_split(dataset,[0.9,0.1])\n",
    "torch.cuda.empty_cache()\n",
    "train_dataloader = DataLoader(\n",
    "    train_dataset, batch_size=batch_size, shuffle=True, pin_memory=True, num_workers=5)\n",
    "test_dataloader = DataLoader(\n",
    "    test_dataset, batch_size=batch_size, shuffle=True, pin_memory=True, num_workers=5)\n",
    "    "
   ]
  },
  {
   "attachments": {},
   "cell_type": "markdown",
   "metadata": {},
   "source": [
    "### Explore dataset"
   ]
  },
  {
   "cell_type": "code",
   "execution_count": 120,
   "metadata": {},
   "outputs": [
    {
     "name": "stdout",
     "output_type": "stream",
     "text": [
      "285\n"
     ]
    }
   ],
   "source": [
    "n = 0\n",
    "for i, data in enumerate(train_dataset):\n",
    "    image, label = data\n",
    "    if torch.max(label) < 0.5:\n",
    "        n+=1\n",
    "print(n)"
   ]
  },
  {
   "attachments": {},
   "cell_type": "markdown",
   "metadata": {},
   "source": [
    "## Train network"
   ]
  },
  {
   "cell_type": "code",
   "execution_count": 121,
   "metadata": {},
   "outputs": [],
   "source": [
    "def basic_train(network, train_loader, criterion, optimizer, n_epochs,lr,tensorborad_folder=\"/home/lorenzo/tensor_board\"):\n",
    "    shutil.rmtree(tensorborad_folder) \n",
    "    os.mkdir(tensorborad_folder)\n",
    "    writer = SummaryWriter(log_dir=tensorborad_folder)\n",
    "    for epoch in range(n_epochs):  # loop over the dataset multiple times\n",
    "        print(\"\", end=\"\\r\")\n",
    "        print(\"Epoch {} out of {}\".format(\n",
    "            epoch + 1, n_epochs), end=\"\")\n",
    "        for i, data in enumerate(train_loader):\n",
    "            torch.cuda.empty_cache()\n",
    "            inputs, labels = data\n",
    "            inputs = inputs.to(torch.device(\"cuda\"))\n",
    "            labels = labels.to(torch.device(\"cuda\"))\n",
    "            outputs = network(inputs)\n",
    "            loss = criterion(outputs, labels)\n",
    "            optimizer.zero_grad()\n",
    "            loss.backward()\n",
    "            optimizer.step()\n",
    "            j = i + epoch * train_loader.__len__()\n",
    "            writer.add_scalar(f\"Loss/train/lr_{lr}\",loss,j)\n",
    "        fig = plt.figure(1)\n",
    "        plt.subplot(211)\n",
    "        plt.imshow(inputs[0][0].detach().cpu().numpy())\n",
    "        plt.subplot(212)\n",
    "        plt.gca().clear()\n",
    "        plt.plot(outputs[0].detach().cpu().numpy())\n",
    "        plt.plot(labels[0].detach().cpu().numpy())\n",
    "        plt.gca().set_xlim(0,360)\n",
    "        fig.canvas.draw()\n",
    "        writer.add_figure(f\"result/lr{lr}\",fig,epoch)"
   ]
  },
  {
   "attachments": {},
   "cell_type": "markdown",
   "metadata": {},
   "source": [
    "### Train"
   ]
  },
  {
   "cell_type": "code",
   "execution_count": 122,
   "metadata": {},
   "outputs": [],
   "source": [
    "network = MODEL().to(cuda).float()\n",
    "with open(\"/home/lorenzo/models/gallery_detection/procedural_datasets/dataset_03/gallery_detector_v3-_r10_lr002_3.torch\", \"rb\") as f:\n",
    "    network.load_state_dict(torch.load(f))"
   ]
  },
  {
   "cell_type": "code",
   "execution_count": 123,
   "metadata": {},
   "outputs": [
    {
     "name": "stdout",
     "output_type": "stream",
     "text": [
      "Epoch 128 out of 128"
     ]
    }
   ],
   "source": [
    "network.to(cuda)\n",
    "for lr in lrs:\n",
    "    torch.cuda.empty_cache()\n",
    "    criterion = nn.MSELoss()\n",
    "    optimizer = torch.optim.Adam(\n",
    "        network.parameters(),\n",
    "        lr=lr,\n",
    "    )\n",
    "    loss_hist = basic_train(\n",
    "        network, train_dataloader, criterion, optimizer, n_epochs, lr\n",
    "    )"
   ]
  },
  {
   "cell_type": "code",
   "execution_count": 124,
   "metadata": {},
   "outputs": [
    {
     "name": "stdout",
     "output_type": "stream",
     "text": [
      "/home/lorenzo/models/gallery_detection/procedural_datasets/dataset_03/gallery_detector_v3-_r10_lr002_5.torch\n"
     ]
    }
   ],
   "source": [
    "network.to(\"cpu\")\n",
    "save_path = \"/home/lorenzo/models/gallery_detection/procedural_datasets/dataset_03/gallery_detector_v3-_r10_lr002_5.torch\"\n",
    "print(save_path)\n",
    "torch.save(network.state_dict(), save_path)"
   ]
  },
  {
   "cell_type": "code",
   "execution_count": null,
   "metadata": {},
   "outputs": [],
   "source": []
  }
 ],
 "metadata": {
  "kernelspec": {
   "display_name": "train_nn",
   "language": "python",
   "name": "python3"
  },
  "language_info": {
   "codemirror_mode": {
    "name": "ipython",
    "version": 3
   },
   "file_extension": ".py",
   "mimetype": "text/x-python",
   "name": "python",
   "nbconvert_exporter": "python",
   "pygments_lexer": "ipython3",
   "version": "3.9.16"
  },
  "orig_nbformat": 4
 },
 "nbformat": 4,
 "nbformat_minor": 2
}
